{
 "cells": [
  {
   "cell_type": "markdown",
   "id": "7f4272b6-455a-4494-b233-2b6503b7fa54",
   "metadata": {},
   "source": [
    "1. Write a program to accept percentage from the user and display the grade according to the following criteria:\n",
    "    Marks             Grade\n",
    "#  >90                A, \n",
    "# >80 and <= 90      B, \n",
    "# >=60 and <=80      C, \n",
    "# below 60           D"
   ]
  },
  {
   "cell_type": "code",
   "execution_count": 18,
   "id": "bac945fd-2346-47ae-a927-7b92229c13be",
   "metadata": {},
   "outputs": [
    {
     "name": "stdin",
     "output_type": "stream",
     "text": [
      "Enter your marks 99\n"
     ]
    },
    {
     "name": "stdout",
     "output_type": "stream",
     "text": [
      "Your Grade is :- A\n"
     ]
    }
   ],
   "source": [
    "Marks = int(input(\"Enter your marks\"))\n",
    "if Marks > 90:\n",
    "    print(\"Your Grade is :- A\")\n",
    "elif Marks > 80 and Marks <= 90:\n",
    "    print(\"Your Grade is :- B\")\n",
    "elif Marks >= 60 and Marks <= 80:\n",
    "    print(\"Your Grade is :- C\")\n",
    "else:\n",
    "    print(\"Your Grade is :- D\")"
   ]
  },
  {
   "cell_type": "markdown",
   "id": "17cfafa5-6100-4261-bd0d-1e88d7a7ffe8",
   "metadata": {},
   "source": [
    "2. Write a program to accept the cost price of a bike and display the road tax to be paid according the following criteria.\n",
    "\n",
    "# 15% > 100000\n",
    "# 10% > 50000 and <= 100000\n",
    "# 5% < 50000"
   ]
  },
  {
   "cell_type": "code",
   "execution_count": 22,
   "id": "12a695ee-03a5-4224-9e59-fa3257c757e6",
   "metadata": {},
   "outputs": [
    {
     "name": "stdin",
     "output_type": "stream",
     "text": [
      "Enter your Bike Cost Price 77777\n"
     ]
    },
    {
     "name": "stdout",
     "output_type": "stream",
     "text": [
      "Your Road Tax  is :- 10%\n"
     ]
    }
   ],
   "source": [
    "Price = int(input(\"Enter your Bike Cost Price\"))\n",
    "if Price > 100000:\n",
    "    print(\"Your Road Tax  is :- 15%\")\n",
    "elif Price > 50000 and Price <= 100000:\n",
    "    print(\"Your Road Tax  is :- 10%\")\n",
    "else:\n",
    "    print(\"Your Road Tax  is :- 5%\")"
   ]
  },
  {
   "cell_type": "markdown",
   "id": "3e000a4d-6ea3-4301-b716-9f7f2d154520",
   "metadata": {},
   "source": [
    "3. Accept any city from the user and displayed monuments of that city.\n",
    "\n",
    "# Delhi  =  Red Fort\n",
    "# Agra    = Taj Mahal\n",
    "# Jaipur   =Jal Mahal"
   ]
  },
  {
   "cell_type": "code",
   "execution_count": 27,
   "id": "95f5b41b-8683-4d02-8bfa-bb2003b492ff",
   "metadata": {},
   "outputs": [
    {
     "name": "stdin",
     "output_type": "stream",
     "text": [
      "Enter your Favourite City Agra\n"
     ]
    },
    {
     "name": "stdout",
     "output_type": "stream",
     "text": [
      "In Agra monument is {Taj Mahal}\n"
     ]
    }
   ],
   "source": [
    "City = input(\"Enter your Favourite City\")\n",
    "if City == \"Delhi\":\n",
    "    print(\"In Delhi monument is {Red Fort}\")\n",
    "elif City == \"Agra\":\n",
    "    print(\"In Agra monument is {Taj Mahal}\")\n",
    "elif City == \"Jaipur\":\n",
    "    print(\"In Jaipur monument is {Jal Mahal}\")"
   ]
  },
  {
   "cell_type": "markdown",
   "id": "9e4c39c6-ba66-4d6f-8b94-5cac8fe48df9",
   "metadata": {},
   "source": [
    "4. Check how many times a given number can be divided by 3 before it less or equal to 10."
   ]
  },
  {
   "cell_type": "code",
   "execution_count": 5,
   "id": "1b23e3dc-7c3a-43a5-95a3-157daf39b9dc",
   "metadata": {},
   "outputs": [
    {
     "name": "stdin",
     "output_type": "stream",
     "text": [
      "Enter the number whose divisibility needs to be checked: 99\n",
      "Enter the number with which divisibility needs to be checked: 8\n"
     ]
    },
    {
     "name": "stdout",
     "output_type": "stream",
     "text": [
      "The number is not divisible.\n"
     ]
    }
   ],
   "source": [
    "num = int (input (\"Enter the number whose divisibility needs to be checked:\"))\n",
    "div = int (input (\"Enter the number with which divisibility needs to be checked:\"))\n",
    "if num%div == 0:\n",
    "              print (\"The number is divisible.\")\n",
    "else:\n",
    "              print (\"The number is not divisible.\")\n"
   ]
  },
  {
   "cell_type": "markdown",
   "id": "f4365a30-20d5-42ea-a4f9-c4dfa5bbc004",
   "metadata": {},
   "source": [
    "5. Why and When to use while loop in Python given a detailed description with esxample?"
   ]
  },
  {
   "cell_type": "code",
   "execution_count": 6,
   "id": "91655d04-e2c7-4c1a-9a22-a424320a92b1",
   "metadata": {},
   "outputs": [],
   "source": [
    "# :- While loops use for to check the given condition is true.\n",
    "# :- If the condition evaluates to True, the code inside the while loop is executed.\n",
    "# :- This process continues until the condition is False.\n",
    "# :- When condition evaluates to False, the loop stops."
   ]
  },
  {
   "cell_type": "markdown",
   "id": "4680be09-df16-485e-8394-3fc56a48a18f",
   "metadata": {},
   "source": [
    "6. Use the nested While loop to print 3 diffrent pattern?"
   ]
  },
  {
   "cell_type": "code",
   "execution_count": 13,
   "id": "08ec39b0-067f-44cb-9500-8558e53e2f27",
   "metadata": {},
   "outputs": [
    {
     "name": "stdin",
     "output_type": "stream",
     "text": [
      "Enter number of rows :  4\n"
     ]
    },
    {
     "name": "stdout",
     "output_type": "stream",
     "text": [
      "# \n",
      "# # \n",
      "# # # \n",
      "# # # # \n"
     ]
    }
   ],
   "source": [
    "# First Pattern \n",
    "n = int(input('Enter number of rows : '))\n",
    "i = 1\n",
    "while i <= n :\n",
    "    j = 1\n",
    "    while j <= i:\n",
    "        print(\"#\", end = \" \")\n",
    "        j += 1\n",
    "    print()\n",
    "    i += 1"
   ]
  },
  {
   "cell_type": "code",
   "execution_count": 14,
   "id": "a45d1e60-bcb8-4083-af4f-8d67efae89e2",
   "metadata": {},
   "outputs": [
    {
     "name": "stdin",
     "output_type": "stream",
     "text": [
      "Enter number of rows :  4\n"
     ]
    },
    {
     "name": "stdout",
     "output_type": "stream",
     "text": [
      "# # # # \n",
      "# # # # \n",
      "# # # # \n",
      "# # # # \n",
      "# # # # \n"
     ]
    }
   ],
   "source": [
    "# Second Pattern \n",
    "n = int(input('Enter number of rows : '))\n",
    "i = 1\n",
    "while i <= j :\n",
    "    j = 1\n",
    "    while j <= n:\n",
    "        print(\"#\", end = \" \")\n",
    "        j += 1\n",
    "    print()\n",
    "    i += 1"
   ]
  },
  {
   "cell_type": "code",
   "execution_count": null,
   "id": "bdc81016-9fa0-4419-9e29-d4a32b6dbfa3",
   "metadata": {},
   "outputs": [],
   "source": [
    "# Third Pattern \n",
    "n = int(input('Enter number of rows : '))\n",
    " \n",
    "i = 1\n",
    "while i <= n :\n",
    "    j = n\n",
    "    while j >= i:\n",
    "        print(\"*\", end = \" \")\n",
    "        j -= 1\n",
    "    print()\n",
    "    i += 1"
   ]
  },
  {
   "cell_type": "markdown",
   "id": "99304630-2310-4472-b396-6eee01577c1b",
   "metadata": {},
   "source": [
    "7. Reverse a while loop to display number from 10 to 1"
   ]
  },
  {
   "cell_type": "code",
   "execution_count": null,
   "id": "64b06807-4bbb-478b-b409-2e92b3fcc851",
   "metadata": {},
   "outputs": [],
   "source": [
    "i = 10\n",
    "while i > 0:\n",
    "    print(i)\n",
    "    i = i - 1"
   ]
  },
  {
   "cell_type": "code",
   "execution_count": null,
   "id": "4d83a7c8-155b-4115-8144-b5f622076057",
   "metadata": {},
   "outputs": [],
   "source": []
  }
 ],
 "metadata": {
  "kernelspec": {
   "display_name": "Python 3 (ipykernel)",
   "language": "python",
   "name": "python3"
  },
  "language_info": {
   "codemirror_mode": {
    "name": "ipython",
    "version": 3
   },
   "file_extension": ".py",
   "mimetype": "text/x-python",
   "name": "python",
   "nbconvert_exporter": "python",
   "pygments_lexer": "ipython3",
   "version": "3.10.8"
  }
 },
 "nbformat": 4,
 "nbformat_minor": 5
}
