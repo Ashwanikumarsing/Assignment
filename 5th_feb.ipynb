{
 "cells": [
  {
   "cell_type": "markdown",
   "id": "dd0d9df9-5915-4663-9f1b-e3f77de2037b",
   "metadata": {},
   "source": [
    "1. Explain Class and Object with respect to Object-Oriented Programming. Give a suitable example."
   ]
  },
  {
   "cell_type": "markdown",
   "id": "43312a77-59c4-4377-a4a0-70668c85ff43",
   "metadata": {},
   "source": [
    "# Python is an object oriented programming language.\n",
    "# Almost everything in Python is an object, with its properties and methods.\n",
    "# A Class is like an object constructor, or a blueprint for creating objects."
   ]
  },
  {
   "cell_type": "code",
   "execution_count": 2,
   "id": "786e1b56-1e3b-47bc-9e10-6b9b07856852",
   "metadata": {},
   "outputs": [],
   "source": [
    "# create blank class\n",
    "class test:\n",
    "    pass"
   ]
  },
  {
   "cell_type": "code",
   "execution_count": 3,
   "id": "435b60e7-9936-4c92-8bec-ba8d8978596a",
   "metadata": {},
   "outputs": [
    {
     "data": {
      "text/plain": [
       "<__main__.test at 0x7f56b806ab90>"
      ]
     },
     "execution_count": 3,
     "metadata": {},
     "output_type": "execute_result"
    }
   ],
   "source": [
    "test()"
   ]
  },
  {
   "cell_type": "markdown",
   "id": "ef9e986b-fb23-4ad5-abd6-78227d8d121e",
   "metadata": {},
   "source": [
    "Q2. Name the four pillars of OOPs. "
   ]
  },
  {
   "cell_type": "markdown",
   "id": "37cb7586-37be-403f-87a2-fc790e8a1ef2",
   "metadata": {},
   "source": [
    "# Abstraction.\n",
    "# Encapsulation.\n",
    "# Inheritance.\n",
    "# Polymorphism."
   ]
  },
  {
   "cell_type": "markdown",
   "id": "4d5cc497-a9cb-4d2e-9a0f-c9ca63e54cfc",
   "metadata": {},
   "source": [
    "3. Explain why the __init__() function is used. Give a suitable example. "
   ]
  },
  {
   "cell_type": "markdown",
   "id": "cab42716-1ca8-4aed-84c8-e22f51fc8e7d",
   "metadata": {},
   "source": [
    "# Use the __init__() function to assign values to object properties, or other operations that are necessary to do when the object is being created"
   ]
  },
  {
   "cell_type": "code",
   "execution_count": 9,
   "id": "d65a2886-6aa6-48c7-9d55-9113c7a60371",
   "metadata": {},
   "outputs": [],
   "source": [
    "# create a class office and create a function using def and initializing the detail of employee.\n",
    "class Office :\n",
    "    \n",
    "    def __init__(self, phone_no , email_id , Employee_id ):\n",
    "        self.phone_no = phone_no\n",
    "        self.email_id = email_id\n",
    "        self.Employee_id  = Employee_id \n",
    "        \n",
    "    def return_employee_details(self):\n",
    "        return self.Employee_id, self.email_id, self.phone_no"
   ]
  },
  {
   "cell_type": "code",
   "execution_count": 10,
   "id": "4834e44c-45a4-463e-9829-8205f5d1714e",
   "metadata": {},
   "outputs": [],
   "source": [
    "Ashwani = Office(9592552550,\"ashwani@gmail.com\",1141333)"
   ]
  },
  {
   "cell_type": "code",
   "execution_count": 11,
   "id": "7d739e13-5d6d-4797-b0d1-a172b77a7351",
   "metadata": {},
   "outputs": [
    {
     "data": {
      "text/plain": [
       "(1141333, 'ashwani@gmail.com', 9592552550)"
      ]
     },
     "execution_count": 11,
     "metadata": {},
     "output_type": "execute_result"
    }
   ],
   "source": [
    "Ashwani.return_employee_details()"
   ]
  },
  {
   "cell_type": "markdown",
   "id": "85c67f75-7bc2-4688-92bc-45d8bc0a2e4e",
   "metadata": {},
   "source": [
    "4. Why self is used in OOPs? "
   ]
  },
  {
   "cell_type": "markdown",
   "id": "9d9376da-6251-4841-97a7-3e4f10d28fc0",
   "metadata": {},
   "source": [
    "# self represents the instance of the class. By using the self we can access the attributes and methods of the class in python. It binds the attributes with the given arguments"
   ]
  },
  {
   "cell_type": "markdown",
   "id": "b081183e-91c8-4dfc-b9cd-b2fe2872d1c6",
   "metadata": {},
   "source": [
    "5. What is inheritance? Give an example for each type of inheritance. "
   ]
  },
  {
   "cell_type": "markdown",
   "id": "9f8702b8-a6ad-4c72-bdb8-c8ae7408fbc3",
   "metadata": {},
   "source": [
    "Inheritance is a process of obtaining properties and characteristics of another class. In this hierarchical order, \n",
    "the class which inherits another class is called subclass or child class, and the other class is the parent class.\n",
    "\n",
    "Inheritance is categorized based on the hierarchy followed and the number of parent classes and subclasses involved.\n",
    "\n",
    "There are five types of inheritances:\n",
    "\n",
    "# Single Inheritance\n",
    "# Multiple Inheritance\n",
    "# Multilevel Inheritance\n",
    "# Hierarchical Inheritance\n",
    "# Hybrid Inheritance"
   ]
  },
  {
   "cell_type": "code",
   "execution_count": 17,
   "id": "507074ac-ee48-4e94-bcf6-5d7ad40f6c8d",
   "metadata": {},
   "outputs": [],
   "source": [
    "# single class \n",
    "class classP:\n",
    "    def test_classP(self):\n",
    "        return \"This is papa class\""
   ]
  },
  {
   "cell_type": "code",
   "execution_count": 18,
   "id": "f89940a3-4ca9-44b9-bfe6-a804ab341328",
   "metadata": {},
   "outputs": [],
   "source": [
    "# single class\n",
    "class classM:\n",
    "    def test_classM(self):\n",
    "        return \"This is mummy class\""
   ]
  },
  {
   "cell_type": "code",
   "execution_count": 19,
   "id": "963415fe-a17c-4a0f-a50f-d6c3ff76dda6",
   "metadata": {},
   "outputs": [],
   "source": [
    "# multiple class\n",
    "class classC(classP , classM):\n",
    "    pass"
   ]
  },
  {
   "cell_type": "code",
   "execution_count": 20,
   "id": "d7259d6b-6eb7-47d4-81e0-896c06ab8c8b",
   "metadata": {},
   "outputs": [],
   "source": [
    "obj_classC = classC()"
   ]
  },
  {
   "cell_type": "code",
   "execution_count": 21,
   "id": "22723542-b703-405f-8d26-8eae662d3ef1",
   "metadata": {},
   "outputs": [
    {
     "data": {
      "text/plain": [
       "'This is papa class'"
      ]
     },
     "execution_count": 21,
     "metadata": {},
     "output_type": "execute_result"
    }
   ],
   "source": [
    "obj_classC.test_classP()"
   ]
  },
  {
   "cell_type": "code",
   "execution_count": 22,
   "id": "822de3fa-4590-4678-ab97-e1ef6fb1ade9",
   "metadata": {},
   "outputs": [],
   "source": [
    "# Multilevel class \n",
    "class classP(classM):\n",
    "    def test_classP(self):\n",
    "        return \"This is papa class\""
   ]
  },
  {
   "cell_type": "code",
   "execution_count": null,
   "id": "fa633240-bb99-4d4e-b7ab-12b686bf6301",
   "metadata": {},
   "outputs": [],
   "source": []
  }
 ],
 "metadata": {
  "kernelspec": {
   "display_name": "Python 3 (ipykernel)",
   "language": "python",
   "name": "python3"
  },
  "language_info": {
   "codemirror_mode": {
    "name": "ipython",
    "version": 3
   },
   "file_extension": ".py",
   "mimetype": "text/x-python",
   "name": "python",
   "nbconvert_exporter": "python",
   "pygments_lexer": "ipython3",
   "version": "3.10.8"
  }
 },
 "nbformat": 4,
 "nbformat_minor": 5
}
