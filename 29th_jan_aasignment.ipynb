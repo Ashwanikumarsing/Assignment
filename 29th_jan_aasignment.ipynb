{
 "cells": [
  {
   "cell_type": "markdown",
   "id": "bce33771-3edc-4e92-85d3-2a9330ac4518",
   "metadata": {},
   "source": [
    "1. Who developed Python programming language?"
   ]
  },
  {
   "cell_type": "code",
   "execution_count": 2,
   "id": "c8e17238-9c2f-4581-ab59-bfe8935fac46",
   "metadata": {},
   "outputs": [],
   "source": [
    "#:- Guido van Rossum developed Python programming language."
   ]
  },
  {
   "cell_type": "markdown",
   "id": "27cceeb7-ca37-4caa-8ad6-e23b256585d0",
   "metadata": {},
   "source": [
    "2.Which type of programming does Python support?"
   ]
  },
  {
   "cell_type": "code",
   "execution_count": 3,
   "id": "e1f09119-c7af-458f-88de-5a89f8e9668e",
   "metadata": {},
   "outputs": [],
   "source": [
    "#:- Object oriented programming & structured programming are fully supported."
   ]
  },
  {
   "cell_type": "markdown",
   "id": "5e4e1305-7458-42d6-aaa6-5790e5b15947",
   "metadata": {},
   "source": [
    "3. Is python case sensitive when dealing with identifiers"
   ]
  },
  {
   "cell_type": "code",
   "execution_count": 4,
   "id": "dda9fc10-6340-45cd-b731-6079ac4bdd2f",
   "metadata": {},
   "outputs": [],
   "source": [
    "#:- Yes, Python is a case-sensitive language"
   ]
  },
  {
   "cell_type": "markdown",
   "id": "ac2126a7-1991-45dc-8225-173d076864ec",
   "metadata": {},
   "source": [
    "4. What is the correct extension of python file?"
   ]
  },
  {
   "cell_type": "code",
   "execution_count": 5,
   "id": "eb783d85-5c29-4c45-ad84-f54e12e7bc7c",
   "metadata": {},
   "outputs": [],
   "source": [
    "#:- the correct extension of python file are (. py, . pyi)"
   ]
  },
  {
   "cell_type": "markdown",
   "id": "1133b4e8-639e-420f-a742-673e2c888145",
   "metadata": {},
   "source": [
    "5. Is python code compiled or interpreted?"
   ]
  },
  {
   "cell_type": "code",
   "execution_count": 6,
   "id": "6966774b-d463-426f-9ec4-db3786f156b7",
   "metadata": {},
   "outputs": [],
   "source": [
    "#:- Python is an interpreted language, which means the source code of a Python program is converted \n",
    "#   into bytecode that is then executed by the Python virtual machine."
   ]
  },
  {
   "cell_type": "markdown",
   "id": "a21935de-baba-4d89-9b70-ac7808ddb77d",
   "metadata": {},
   "source": [
    "6. Name a few blocks of code use to define in Python language ?"
   ]
  },
  {
   "cell_type": "code",
   "execution_count": 9,
   "id": "62f83376-ceed-49d8-bb82-ed116bb6b9a0",
   "metadata": {},
   "outputs": [],
   "source": [
    "#:-The following are blocks: \n",
    " #   a module\n",
    "  #  a function body\n",
    "   # a class definition."
   ]
  },
  {
   "cell_type": "markdown",
   "id": "47b27b8f-0f6b-4e5f-8cb2-d488735effca",
   "metadata": {},
   "source": [
    "7.State a character use to give single line comments in Python?"
   ]
  },
  {
   "cell_type": "code",
   "execution_count": 1,
   "id": "f78d8d6f-5940-4211-b057-0ac0501a806b",
   "metadata": {},
   "outputs": [],
   "source": [
    "# :- the character is (#)"
   ]
  },
  {
   "cell_type": "markdown",
   "id": "0e7c403b-13e5-4ed4-a2fb-bc4a3a6d6f72",
   "metadata": {},
   "source": [
    "8.Mention functions which can help us to find the version f Python that we are currently working on?"
   ]
  },
  {
   "cell_type": "code",
   "execution_count": 2,
   "id": "d7c98b5f-df68-48cf-aeb9-e74f89a6aab2",
   "metadata": {},
   "outputs": [],
   "source": [
    "# :- sys.version"
   ]
  },
  {
   "cell_type": "markdown",
   "id": "8e46b731-38a8-4e20-8921-6c7008bcaf6d",
   "metadata": {},
   "source": [
    "9.python supports the creation of anonymous functions at runtime using a construct called?"
   ]
  },
  {
   "cell_type": "code",
   "execution_count": 3,
   "id": "b96c020f-57a5-43f7-b306-aec86dca1508",
   "metadata": {},
   "outputs": [],
   "source": [
    "# :- Python supports to make anonymous functions which are not bound to a name runtime. It uses a construct called \"lambda\" ."
   ]
  },
  {
   "cell_type": "markdown",
   "id": "e4ac0de4-2758-48e2-87eb-78ff48188a30",
   "metadata": {},
   "source": [
    "10. What does pip stands for python?"
   ]
  },
  {
   "cell_type": "code",
   "execution_count": 4,
   "id": "70bf4fc0-999e-42dc-a885-a58a221bf590",
   "metadata": {},
   "outputs": [],
   "source": [
    "#:- preferred installer program"
   ]
  },
  {
   "cell_type": "markdown",
   "id": "3c855f3d-55c8-4395-bb03-74dfc9f132af",
   "metadata": {},
   "source": [
    "11.Mention a few built- function in python?"
   ]
  },
  {
   "cell_type": "code",
   "execution_count": 6,
   "id": "732e0628-ce24-4ef7-b829-33bae50fa822",
   "metadata": {},
   "outputs": [],
   "source": [
    "# print( ) function.\n",
    "# type( ) function.\n",
    "# input( ) function.\n",
    "# abs( ) function.\n",
    "# pow( ) function.\n",
    "# dir( ) function.\n",
    "# sorted( ) function.\n",
    "# max( ) function."
   ]
  },
  {
   "cell_type": "markdown",
   "id": "e3855908-6de0-4962-af7f-529fb2ab6a14",
   "metadata": {},
   "source": [
    "12. what is the maximum length of an identifier in python?"
   ]
  },
  {
   "cell_type": "code",
   "execution_count": 7,
   "id": "ba710142-b559-4cb0-b47d-eb84f9837674",
   "metadata": {},
   "outputs": [],
   "source": [
    "# :- An identifier can have a maximum length of 79 characters in Python. Python is one of the most popular programming languages"
   ]
  },
  {
   "cell_type": "markdown",
   "id": "8a3189ec-e367-46e1-97d3-b1646af5dab8",
   "metadata": {},
   "source": [
    "13. what are benefit of using python?"
   ]
  },
  {
   "cell_type": "code",
   "execution_count": 8,
   "id": "94a7c24a-8668-47ef-9ec0-89b7d6465cb5",
   "metadata": {},
   "outputs": [],
   "source": [
    "# Data science.\n",
    "# Scientific and mathematical computing.\n",
    "# Web development.\n",
    "# Finance and trading.\n",
    "# System automation and administration.\n",
    "# Computer graphics.\n",
    "# Basic game development.\n",
    "# Security and penetration testing."
   ]
  },
  {
   "cell_type": "markdown",
   "id": "65efa910-9b38-4336-8e39-3bee9b7a2429",
   "metadata": {},
   "source": [
    "14. how is memory managed in python?"
   ]
  },
  {
   "cell_type": "code",
   "execution_count": 9,
   "id": "16beff20-2e23-440b-914c-0c92f44989b4",
   "metadata": {},
   "outputs": [],
   "source": [
    "# :- Memory management in Python involves a private heap containing all Python objects and data structures."
   ]
  },
  {
   "cell_type": "markdown",
   "id": "320ccf51-c710-4f97-b244-d8b2f5cebf03",
   "metadata": {},
   "source": [
    "15. how to install python on windows and set path variable?"
   ]
  },
  {
   "cell_type": "code",
   "execution_count": 10,
   "id": "e37c93d7-252b-4ff2-b16c-0b2412fbe2b0",
   "metadata": {},
   "outputs": [],
   "source": [
    "# Right-clicking This PC and going to Properties.\n",
    "\n",
    "# Clicking on the Advanced system settings in the menu on the left.\n",
    "\n",
    "# Clicking on the Environment Variables button o​n the bottom right.\n",
    "\n",
    "# In the System variables section, selecting the Path variable and clicking on Edit. The next screen will show all the directories that are currently a part of the PATH variable.\n",
    "\n",
    "# Clicking on New and entering Python’s install directory."
   ]
  },
  {
   "cell_type": "markdown",
   "id": "ca088e01-d882-45bf-b8b6-d5126edf99a0",
   "metadata": {},
   "source": [
    "16. Is Indentation is required in python?"
   ]
  },
  {
   "cell_type": "code",
   "execution_count": 11,
   "id": "2f1493b9-5e49-49da-a472-4d93dd5ab2ea",
   "metadata": {},
   "outputs": [],
   "source": [
    "# :- YES\n",
    "#     Indentation is a very important concept of Python because without properly indenting the Python code, \n",
    "#     you will end up seeing IndentationError and the code will not get compiled."
   ]
  },
  {
   "cell_type": "code",
   "execution_count": null,
   "id": "8b5a37d0-c2e0-4354-817b-e8b1f8705e6d",
   "metadata": {},
   "outputs": [],
   "source": []
  }
 ],
 "metadata": {
  "kernelspec": {
   "display_name": "Python 3 (ipykernel)",
   "language": "python",
   "name": "python3"
  },
  "language_info": {
   "codemirror_mode": {
    "name": "ipython",
    "version": 3
   },
   "file_extension": ".py",
   "mimetype": "text/x-python",
   "name": "python",
   "nbconvert_exporter": "python",
   "pygments_lexer": "ipython3",
   "version": "3.10.8"
  }
 },
 "nbformat": 4,
 "nbformat_minor": 5
}
