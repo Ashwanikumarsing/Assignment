{
 "cells": [
  {
   "cell_type": "markdown",
   "id": "34cf6efd-d3e2-4df5-97d4-0fc21c183dfc",
   "metadata": {},
   "source": [
    "1.Explain with an example each when to use a for loop and a while loop."
   ]
  },
  {
   "cell_type": "code",
   "execution_count": 1,
   "id": "59973483-9709-4d84-a5c1-b57808f25d26",
   "metadata": {},
   "outputs": [],
   "source": [
    "# For loop = For loop is used when the number of iterations is already known.\n",
    "# While Loop = While loop is used when the number of iterations is already Unknown."
   ]
  },
  {
   "cell_type": "code",
   "execution_count": 2,
   "id": "149d23ce-1283-4d63-9fbf-edf7e5e318d5",
   "metadata": {},
   "outputs": [
    {
     "name": "stdout",
     "output_type": "stream",
     "text": [
      "1\n",
      "2\n",
      "3\n",
      "4\n",
      "5\n",
      "6\n"
     ]
    }
   ],
   "source": [
    "# For loop = For loop is used when the number of iterations is already known.\n",
    "l = [1,2,3,4,5,6]\n",
    "for i in l:\n",
    "    print(i)"
   ]
  },
  {
   "cell_type": "code",
   "execution_count": 3,
   "id": "16a0bc43-5292-4908-9f84-c1e3ca217da3",
   "metadata": {},
   "outputs": [
    {
     "name": "stdout",
     "output_type": "stream",
     "text": [
      "1\n",
      "2\n",
      "3\n",
      "4\n"
     ]
    }
   ],
   "source": [
    "# While Loop = While loop is used when the number of iterations is already Unknown.\n",
    "i=1\n",
    "while i < 5:\n",
    "    print(i)\n",
    "    i=i+1\n"
   ]
  },
  {
   "cell_type": "markdown",
   "id": "77028ddf-ee47-4ea5-949d-3590d0c00cb2",
   "metadata": {},
   "source": [
    "2. Write a python program to print the sum and product of the first 10 natural numbers using for  and while loop. \n"
   ]
  },
  {
   "cell_type": "code",
   "execution_count": 4,
   "id": "c069e243-f5a3-4c4d-9fbf-7a5a4d5c95e2",
   "metadata": {},
   "outputs": [
    {
     "data": {
      "text/plain": [
       "55"
      ]
     },
     "execution_count": 4,
     "metadata": {},
     "output_type": "execute_result"
    }
   ],
   "source": [
    "# sum of first 10 natural number \n",
    "a=0\n",
    "b=1\n",
    "\n",
    "while b <= 10:\n",
    "    a=a+b\n",
    "    b=b+1\n",
    "a\n",
    "    "
   ]
  },
  {
   "cell_type": "code",
   "execution_count": 5,
   "id": "ed4d5573-e624-4b18-9bae-4ba6b679f98a",
   "metadata": {},
   "outputs": [
    {
     "data": {
      "text/plain": [
       "3628800"
      ]
     },
     "execution_count": 5,
     "metadata": {},
     "output_type": "execute_result"
    }
   ],
   "source": [
    "# Product of first 10 natural number \n",
    "a=1\n",
    "b=1\n",
    "\n",
    "while b <= 10:\n",
    "    a=a*b\n",
    "    b=b+1\n",
    "a"
   ]
  },
  {
   "cell_type": "markdown",
   "id": "6295f99a-fa79-4cde-b514-bdbe153dc9a3",
   "metadata": {},
   "source": [
    "3.Create a python program to compute the electricity bill for a household. \n",
    "The per-unit charges in rupees are as follows: For the first 100 units, the user will be charged Rs. 4.5 per  unit, for the next 100 units, the user will be charged Rs. 6 per unit, and for the next 100 units, the user will  be charged Rs. 10 per unit, After 300 units and above the user will be charged Rs. 20 per unit. \n"
   ]
  },
  {
   "cell_type": "code",
   "execution_count": 7,
   "id": "44d4014f-49de-499a-b119-02cd33e6cf40",
   "metadata": {},
   "outputs": [
    {
     "name": "stdin",
     "output_type": "stream",
     "text": [
      "Enter the total number of Unit = 66\n"
     ]
    },
    {
     "name": "stdout",
     "output_type": "stream",
     "text": [
      " Your electricity bill \n"
     ]
    },
    {
     "data": {
      "text/plain": [
       "297.0"
      ]
     },
     "execution_count": 7,
     "metadata": {},
     "output_type": "execute_result"
    }
   ],
   "source": [
    "u=int(input(\"Enter the total number of Unit =\"))\n",
    "\n",
    "if u <= 100:\n",
    "    bill=u*4.5\n",
    "    print(\" Your electricity bill \")\n",
    "elif u > 100 and u <= 200:\n",
    "    bill=u*6\n",
    "    print(\" Your electricity bill \")\n",
    "elif u >200 and u <= 300:\n",
    "    bill=u*10\n",
    "    print(\" Your electricity bill \")\n",
    "else:\n",
    "    bill=u*20\n",
    "    print(\" Your electricity bill \")\n",
    "    \n",
    "bill\n",
    "        \n",
    "\n",
    "      \n",
    "      "
   ]
  },
  {
   "cell_type": "markdown",
   "id": "1c4a0000-106e-4dd3-be4e-5c7ddf662bff",
   "metadata": {},
   "source": [
    "4. Create a list of numbers from 1 to 100. Use for loop and while loop to calculate the cube of each  number and if the cube of that number is divisible by 4 or 5 then append that number in a list and print  that list. \n"
   ]
  },
  {
   "cell_type": "code",
   "execution_count": 11,
   "id": "658a0075-e26d-484d-9cf9-d9c078b58eb9",
   "metadata": {},
   "outputs": [
    {
     "name": "stdout",
     "output_type": "stream",
     "text": [
      "0\n",
      "1\n",
      "2\n",
      "3\n",
      "4\n",
      "5\n",
      "6\n",
      "7\n",
      "8\n",
      "9\n",
      "10\n",
      "11\n",
      "12\n",
      "13\n",
      "14\n",
      "15\n",
      "16\n",
      "17\n",
      "18\n",
      "19\n",
      "20\n",
      "21\n",
      "22\n",
      "23\n",
      "24\n",
      "25\n",
      "26\n",
      "27\n",
      "28\n",
      "29\n",
      "30\n",
      "31\n",
      "32\n",
      "33\n",
      "34\n",
      "35\n",
      "36\n",
      "37\n",
      "38\n",
      "39\n",
      "40\n",
      "41\n",
      "42\n",
      "43\n",
      "44\n",
      "45\n",
      "46\n",
      "47\n",
      "48\n",
      "49\n",
      "50\n",
      "51\n",
      "52\n",
      "53\n",
      "54\n",
      "55\n",
      "56\n",
      "57\n",
      "58\n",
      "59\n",
      "60\n",
      "61\n",
      "62\n",
      "63\n",
      "64\n",
      "65\n",
      "66\n",
      "67\n",
      "68\n",
      "69\n",
      "70\n",
      "71\n",
      "72\n",
      "73\n",
      "74\n",
      "75\n",
      "76\n",
      "77\n",
      "78\n",
      "79\n",
      "80\n",
      "81\n",
      "82\n",
      "83\n",
      "84\n",
      "85\n",
      "86\n",
      "87\n",
      "88\n",
      "89\n",
      "90\n",
      "91\n",
      "92\n",
      "93\n",
      "94\n",
      "95\n",
      "96\n",
      "97\n",
      "98\n",
      "99\n"
     ]
    }
   ],
   "source": [
    "#create a list from 1 to 100\n",
    "i=0\n",
    "l1 =[]\n",
    "while i < 100:\n",
    "    print(i)\n",
    "    i=i+1\n",
    "    l1.append(i)"
   ]
  },
  {
   "cell_type": "code",
   "execution_count": 18,
   "id": "945060c7-b99d-471f-90c8-a1b6fa872381",
   "metadata": {},
   "outputs": [
    {
     "data": {
      "text/plain": [
       "[10, 20, 30, 40, 50, 60, 70, 80, 90, 100]"
      ]
     },
     "execution_count": 18,
     "metadata": {},
     "output_type": "execute_result"
    }
   ],
   "source": [
    "# calculate the cube of each number\n",
    "list=[]\n",
    "for i in l1:\n",
    "    #print(i**3)\n",
    "    if i**3%4==0 and i**3%5==0:\n",
    "        list.append(i)\n",
    "list\n",
    "    "
   ]
  },
  {
   "cell_type": "code",
   "execution_count": null,
   "id": "db8446f0-635c-4f2a-9e5d-922c455428fa",
   "metadata": {},
   "outputs": [],
   "source": []
  }
 ],
 "metadata": {
  "kernelspec": {
   "display_name": "Python 3 (ipykernel)",
   "language": "python",
   "name": "python3"
  },
  "language_info": {
   "codemirror_mode": {
    "name": "ipython",
    "version": 3
   },
   "file_extension": ".py",
   "mimetype": "text/x-python",
   "name": "python",
   "nbconvert_exporter": "python",
   "pygments_lexer": "ipython3",
   "version": "3.10.8"
  }
 },
 "nbformat": 4,
 "nbformat_minor": 5
}
