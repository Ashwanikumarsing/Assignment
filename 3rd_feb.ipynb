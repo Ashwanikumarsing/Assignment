{
 "cells": [
  {
   "cell_type": "markdown",
   "id": "197ba88c-f39e-427c-a018-b9bc218e87ac",
   "metadata": {},
   "source": [
    "1. Which keyword is used to create a function? Create a function to return a list of odd numbers in the  range of 1 to 25. "
   ]
  },
  {
   "cell_type": "code",
   "execution_count": 11,
   "id": "94f2a5e4-78ad-4455-a56f-a6f07845a926",
   "metadata": {},
   "outputs": [
    {
     "data": {
      "text/plain": [
       "[1,\n",
       " 2,\n",
       " 3,\n",
       " 4,\n",
       " 5,\n",
       " 6,\n",
       " 7,\n",
       " 8,\n",
       " 9,\n",
       " 10,\n",
       " 11,\n",
       " 12,\n",
       " 13,\n",
       " 14,\n",
       " 15,\n",
       " 16,\n",
       " 17,\n",
       " 18,\n",
       " 19,\n",
       " 20,\n",
       " 21,\n",
       " 22,\n",
       " 23,\n",
       " 24,\n",
       " 25]"
      ]
     },
     "execution_count": 11,
     "metadata": {},
     "output_type": "execute_result"
    }
   ],
   "source": [
    "#  keyword is used to create a function are two def and lambda.\n",
    "# First we create a list using while loop.\n",
    "i = 1\n",
    "l = []\n",
    "while i <= 25:\n",
    "    l.append(i)\n",
    "    i=i+1\n",
    "l\n"
   ]
  },
  {
   "cell_type": "code",
   "execution_count": 26,
   "id": "16507e93-f347-4515-bb8c-3edb4b935b67",
   "metadata": {},
   "outputs": [],
   "source": [
    "# Now we Create a function to return a list of odd numbers in the range of 1 to 25.\n",
    "def odd(l):\n",
    "    for i in l:\n",
    "        if i % 2 != 0:\n",
    "            print(i)"
   ]
  },
  {
   "cell_type": "code",
   "execution_count": 27,
   "id": "42ee552f-2f11-4cd5-aced-659ca85c0a6f",
   "metadata": {},
   "outputs": [
    {
     "name": "stdout",
     "output_type": "stream",
     "text": [
      "1\n",
      "3\n",
      "5\n",
      "7\n",
      "9\n",
      "11\n",
      "13\n",
      "15\n",
      "17\n",
      "19\n",
      "21\n",
      "23\n",
      "25\n"
     ]
    }
   ],
   "source": [
    "odd(l)"
   ]
  },
  {
   "cell_type": "markdown",
   "id": "445ab4b3-be5c-4e95-8b37-0f9cb63a4f05",
   "metadata": {},
   "source": [
    "2. Why *args and **kwargs is used in some functions? Create a function each for *args and **kwargs  to demonstrate their use. \n"
   ]
  },
  {
   "cell_type": "code",
   "execution_count": 28,
   "id": "eabf5247-7ed3-478f-854f-f6b37d04f655",
   "metadata": {},
   "outputs": [],
   "source": [
    "# use Asterisk(*) to define args(argument) keyword for give multiple value at a time.\n",
    "# Its type is tuple and its accept a value like tuple.\n",
    "\n",
    "def test1(*args):\n",
    "    return args\n"
   ]
  },
  {
   "cell_type": "code",
   "execution_count": 30,
   "id": "8044ab07-be30-44a9-b7b2-de0adaf970ef",
   "metadata": {},
   "outputs": [
    {
     "data": {
      "text/plain": [
       "tuple"
      ]
     },
     "execution_count": 30,
     "metadata": {},
     "output_type": "execute_result"
    }
   ],
   "source": [
    "type(test1())"
   ]
  },
  {
   "cell_type": "code",
   "execution_count": 31,
   "id": "761c5e7c-d5d7-4e4d-82cb-a40800c3d6e2",
   "metadata": {},
   "outputs": [
    {
     "data": {
      "text/plain": [
       "(1, 2, 3, 4, 5)"
      ]
     },
     "execution_count": 31,
     "metadata": {},
     "output_type": "execute_result"
    }
   ],
   "source": [
    "test1(1,2,3,4,5)"
   ]
  },
  {
   "cell_type": "code",
   "execution_count": 32,
   "id": "ed9bcefb-d9fb-430c-a8f6-e1a9f337536b",
   "metadata": {},
   "outputs": [],
   "source": [
    "# use Asterisk(**) to define kwargs(argument) keyword for give multiple value at a time.\n",
    "# Its type is dictionory and its accept a value like dictionory.\n",
    "def test2(**kwargs):\n",
    "    return kwargs"
   ]
  },
  {
   "cell_type": "code",
   "execution_count": 33,
   "id": "cb0e0dd5-d7a7-490b-9220-cdbf636e5f90",
   "metadata": {},
   "outputs": [
    {
     "data": {
      "text/plain": [
       "dict"
      ]
     },
     "execution_count": 33,
     "metadata": {},
     "output_type": "execute_result"
    }
   ],
   "source": [
    "type(test2())"
   ]
  },
  {
   "cell_type": "code",
   "execution_count": 41,
   "id": "49876140-bb99-4b68-b1bf-d04640d3797f",
   "metadata": {},
   "outputs": [
    {
     "data": {
      "text/plain": [
       "{'a': 111, 'b': 'ashwani', 'c': [5, 6, 7, 8]}"
      ]
     },
     "execution_count": 41,
     "metadata": {},
     "output_type": "execute_result"
    }
   ],
   "source": [
    "test2(a= 111,b= \"ashwani\",c= [5,6,7,8])"
   ]
  },
  {
   "cell_type": "markdown",
   "id": "6d8d4895-0126-4fa1-a177-c75bebe07149",
   "metadata": {},
   "source": [
    "3.  What is an iterator in python? Name the method used to initialise the iterator object and the method  used for iteration. Use these methods to print the first five elements of the given list [2, 4, 6, 8, 10, 12, 14,  16, 18, 20]. "
   ]
  },
  {
   "cell_type": "code",
   "execution_count": 58,
   "id": "ac373163-1e22-408c-805f-e84881f056c3",
   "metadata": {},
   "outputs": [
    {
     "name": "stdout",
     "output_type": "stream",
     "text": [
      "1\n",
      "2\n",
      "3\n"
     ]
    }
   ],
   "source": [
    "#Iterators are methods that iterate collections like lists, tuples, etc. \n",
    "#Using an iterator method, we can loop through an object and return its elements.\n",
    "# define a list\n",
    "list1 = [1,2,3]\n",
    "iterator = iter(list)  # create an iterator from the list\n",
    "\n",
    "print(next(iterator))  # get the first element of the iterator\n",
    "\n",
    "print(next(iterator))  # get the second element of the iterator\n",
    "\n",
    "print(next(iterator))  # get the third element of the iterator"
   ]
  },
  {
   "cell_type": "code",
   "execution_count": 85,
   "id": "c5bdc3ed-8f85-478c-80bb-6dfcc3cebaa8",
   "metadata": {},
   "outputs": [
    {
     "name": "stdout",
     "output_type": "stream",
     "text": [
      "2\n",
      "4\n",
      "6\n",
      "8\n",
      "10\n",
      "12\n",
      "14\n",
      "16\n",
      "18\n",
      "20\n"
     ]
    }
   ],
   "source": [
    "# The for loop in Python is used to iterate over a sequence of elements, such as a list, tuple, or string.\n",
    "# When we use the for loop with an iterator, the loop will automatically iterate over the elements of the iterator until it is exhausted.\n",
    "\n",
    "list =[2, 4, 6, 8, 10, 12, 14, 16, 18, 20]\n",
    "\n",
    "for i in list:\n",
    "    print(i)"
   ]
  },
  {
   "cell_type": "markdown",
   "id": "b680ac1c-498b-439d-953e-9dbce085dfb7",
   "metadata": {},
   "source": [
    "4.  What is a generator function in python? Why yield keyword is used? Give an example of a generator  function. "
   ]
  },
  {
   "cell_type": "code",
   "execution_count": 60,
   "id": "a3067711-ca96-47ec-9c5e-a408206624b9",
   "metadata": {},
   "outputs": [],
   "source": [
    "# Generator functions allow you to declare a function that behaves likes an iterator.\n",
    "# yield keyword is used to create a generator function. \n",
    "# A type of function that is memory efficient and can be used like an iterator object.\n",
    "def testfs(n):  \n",
    "    a,b=0,1\n",
    "    for i in range(n):    \n",
    "        yield a\n",
    "        a,b =b, a+b"
   ]
  },
  {
   "cell_type": "code",
   "execution_count": null,
   "id": "2a9b4186-3bb7-4c3c-ba65-c1fdcea5c772",
   "metadata": {},
   "outputs": [],
   "source": [
    "list(testfs(10))"
   ]
  },
  {
   "cell_type": "markdown",
   "id": "fd7ea83a-9a33-446f-a6b6-10b274b9968d",
   "metadata": {},
   "source": [
    "5. Create a generator function for prime numbers less than 1000. Use the next() method to print the  first 20 prime numbers"
   ]
  },
  {
   "cell_type": "code",
   "execution_count": 80,
   "id": "05a11e9b-1755-4c77-a13d-1da608198b1b",
   "metadata": {},
   "outputs": [],
   "source": [
    "primes = []\n",
    "for i in range(2, 100):\n",
    "    isPrime = True\n",
    "    for num in range(2, i):\n",
    "        if i % num == 0:\n",
    "            isPrime = False\n",
    "            break\n",
    "      \n",
    "    if isPrime:\n",
    "        primes.append(i)"
   ]
  },
  {
   "cell_type": "code",
   "execution_count": 81,
   "id": "6c7a9d60-9eef-4cef-a98b-3e211cf4801f",
   "metadata": {},
   "outputs": [
    {
     "data": {
      "text/plain": [
       "[2,\n",
       " 3,\n",
       " 5,\n",
       " 7,\n",
       " 11,\n",
       " 13,\n",
       " 17,\n",
       " 19,\n",
       " 23,\n",
       " 29,\n",
       " 31,\n",
       " 37,\n",
       " 41,\n",
       " 43,\n",
       " 47,\n",
       " 53,\n",
       " 59,\n",
       " 61,\n",
       " 67,\n",
       " 71,\n",
       " 73,\n",
       " 79,\n",
       " 83,\n",
       " 89,\n",
       " 97]"
      ]
     },
     "execution_count": 81,
     "metadata": {},
     "output_type": "execute_result"
    }
   ],
   "source": [
    "primes"
   ]
  },
  {
   "cell_type": "markdown",
   "id": "a7143d9c-813e-4253-9a91-f79f8b0bcb2f",
   "metadata": {},
   "source": [
    "6. Write a python program to print the first 10 Fibonacci numbers using a while loop"
   ]
  },
  {
   "cell_type": "code",
   "execution_count": 83,
   "id": "f73c6242-ab85-4b38-b53e-15e3f06dea45",
   "metadata": {},
   "outputs": [
    {
     "name": "stdout",
     "output_type": "stream",
     "text": [
      "0\n",
      "1\n",
      "1\n",
      "2\n",
      "3\n",
      "5\n",
      "8\n",
      "13\n",
      "21\n",
      "34\n"
     ]
    }
   ],
   "source": [
    "a=0\n",
    "b=1\n",
    "counter = 0\n",
    "while counter < 10:\n",
    "    print(a)\n",
    "    c=a+b\n",
    "    a=b\n",
    "    b=c\n",
    "    counter = counter+1"
   ]
  },
  {
   "cell_type": "markdown",
   "id": "0bcb1953-6bbc-43c5-9f4c-c8ac4e20c9ed",
   "metadata": {},
   "source": [
    "7. Write a List Comprehension to iterate through the given string: ‘pwskills’. \n",
    "Expected output: ['p', 'w', 's', 'k', 'i', 'l', 'l', 's']  \n"
   ]
  },
  {
   "cell_type": "code",
   "execution_count": 86,
   "id": "7c4b2ac9-90f2-4813-80a6-1e8fd4c9a5fa",
   "metadata": {},
   "outputs": [
    {
     "name": "stdout",
     "output_type": "stream",
     "text": [
      "output :  ['p', 'w', 's', 'k', 'i', 'l', 'l', 's']\n"
     ]
    }
   ],
   "source": [
    "s = \"pwskills\"\n",
    "a = [ i for i in s]\n",
    "print(\"output : \",a)"
   ]
  },
  {
   "cell_type": "markdown",
   "id": "079c2371-eb1b-4f31-b898-3baa634163a9",
   "metadata": {},
   "source": [
    "8. Write a python program to check whether a given number is Palindrome or not using a while loop. "
   ]
  },
  {
   "cell_type": "code",
   "execution_count": null,
   "id": "858cfa47-70df-4cb3-9687-2c42d148aead",
   "metadata": {},
   "outputs": [],
   "source": [
    "num=int(input(\"Enter a number:\"))\n",
    "temp=num\n",
    "rev=0\n",
    "while(num&gt,0):\n",
    "    dig=num%10\n",
    "    rev=rev*10+dig\n",
    "    num=num//10\n",
    "if(temp==rev):\n",
    "    print(\"The number is palindrome!\")\n",
    "else:\n",
    "    print(\"Not a palindrome!\")"
   ]
  },
  {
   "cell_type": "markdown",
   "id": "7681ed72-62a6-4fbe-8ee2-39a06615ab51",
   "metadata": {},
   "source": [
    "9. Write a code to print odd numbers from 1 to 100 using list comprehension. \n",
    "Note: Use a list comprehension to create a list from 1 to 100 and use another List comprehension to filter  out odd numbers. \n"
   ]
  },
  {
   "cell_type": "code",
   "execution_count": 20,
   "id": "f80c4af1-e2c0-40bd-b051-1bb36a83c306",
   "metadata": {},
   "outputs": [
    {
     "data": {
      "text/plain": [
       "[[1,\n",
       "  3,\n",
       "  5,\n",
       "  7,\n",
       "  9,\n",
       "  11,\n",
       "  13,\n",
       "  15,\n",
       "  17,\n",
       "  19,\n",
       "  21,\n",
       "  23,\n",
       "  25,\n",
       "  27,\n",
       "  29,\n",
       "  31,\n",
       "  33,\n",
       "  35,\n",
       "  37,\n",
       "  39,\n",
       "  41,\n",
       "  43,\n",
       "  45,\n",
       "  47,\n",
       "  49,\n",
       "  51,\n",
       "  53,\n",
       "  55,\n",
       "  57,\n",
       "  59,\n",
       "  61,\n",
       "  63,\n",
       "  65,\n",
       "  67,\n",
       "  69,\n",
       "  71,\n",
       "  73,\n",
       "  75,\n",
       "  77,\n",
       "  79,\n",
       "  81,\n",
       "  83,\n",
       "  85,\n",
       "  87,\n",
       "  89,\n",
       "  91,\n",
       "  93,\n",
       "  95,\n",
       "  97,\n",
       "  99]]"
      ]
     },
     "execution_count": 20,
     "metadata": {},
     "output_type": "execute_result"
    }
   ],
   "source": [
    "odd=[]\n",
    "a = [ i for i in range(101) if i % 2 != 0]\n",
    "odd.append(a)\n",
    "odd"
   ]
  },
  {
   "cell_type": "code",
   "execution_count": null,
   "id": "8ecf0003-8a87-4aff-ab2e-4f5109cfe1c3",
   "metadata": {},
   "outputs": [],
   "source": []
  }
 ],
 "metadata": {
  "kernelspec": {
   "display_name": "Python 3 (ipykernel)",
   "language": "python",
   "name": "python3"
  },
  "language_info": {
   "codemirror_mode": {
    "name": "ipython",
    "version": 3
   },
   "file_extension": ".py",
   "mimetype": "text/x-python",
   "name": "python",
   "nbconvert_exporter": "python",
   "pygments_lexer": "ipython3",
   "version": "3.10.8"
  }
 },
 "nbformat": 4,
 "nbformat_minor": 5
}
